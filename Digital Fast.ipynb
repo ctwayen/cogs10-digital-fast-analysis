{
 "cells": [
  {
   "cell_type": "markdown",
   "metadata": {},
   "source": [
    "# \"Digital Fast\" Data Analysis\n",
    "Author: Xinrui Zhan\n",
    "Time: 10.15.2019"
   ]
  },
  {
   "cell_type": "markdown",
   "metadata": {},
   "source": [
    "## 1. Begin\n",
    "For class COGS10(Coginitive consequences of Techology) first assigment, I am asked to abstain from using digital technology for a day (24 hours) and then write a paper. During the \"Digital Fast\", I decided to record every time I wanna use digita techonology. Using those data, I tried to get some conclusion that may be helpful for my digital technology using experience in the future.\n",
    "  \n",
    "    "
   ]
  },
  {
   "cell_type": "markdown",
   "metadata": {},
   "source": [
    "## 2. Import Data\n",
    "Import modules and data, replace all \" \" to NAN  \n",
    "For Strongness(0-5), higher number means more strong of need"
   ]
  },
  {
   "cell_type": "code",
   "execution_count": 130,
   "metadata": {},
   "outputs": [],
   "source": [
    "import numpy as np\n",
    "import pandas as pd\n",
    "import matplotlib\n",
    "import matplotlib.pyplot as plt\n",
    "import re\n",
    "from datetime import time\n",
    "data = [[time(0, 50, 0), \"before go to bed\", \"wanna check message/social media\", \"habit\", False, 2],\n",
    "        [time(1, 15, 0), \"after reading\", \"wanna check message/social media\", \"intuitive\", False, 2],\n",
    "        [time(1, 30, 0), \"before sleep\", \"wanna check message/social media\", \"habit\", False, 3],\n",
    "        [time(10, 0, 0), \"after get up\", \"wanna check message/social media\", \"habit\", False, 4],\n",
    "        [time(11, 40, 0), \"after reading\", \"wanna check message/social media\", \"intuitive\", False, 2],\n",
    "        [time(11, 58, 0), \"after shower\", \"just wanna take a look\", \"intuitive\", False, 3],\n",
    "        [time(12, 19, 0), \" \", \"show bus ticket to bus driver\", \"tool\", True, 1],\n",
    "        [time(12, 29, 0), \" \", \"wanna listen some music\", \"entertainment\", False, 3],\n",
    "        [time(14, 25, 0), \" \", \"show bus ticket to bus driver\", \"tool\", True, 1],\n",
    "        [time(14, 38, 0), \" \", \"see a guy wearing SD Hack, remeber that I still not finish my application of SD Hack 2019\", \"priming\", False, 2],\n",
    "        [time(14, 43, 0), \"after finish a book\", \"wanna share my opnions about the book\", \"emotion\", False, 4],\n",
    "        [time(19, 50, 0), \"after friend transfer money to me\", \"wanna check whether the money is successfully transfered\",\"tool\", False, 2],\n",
    "        [time(21, 31, 0), \"while doing HW \", \"wanna use it for google a question\", \"tool\", False, 3],\n",
    "        [time(22, 0, 0), \"after finsh HW\", \"wanna play video games\", \"entertainment\", False, 3]]"
   ]
  },
  {
   "cell_type": "code",
   "execution_count": 122,
   "metadata": {},
   "outputs": [
    {
     "data": {
      "text/html": [
       "<div>\n",
       "<style scoped>\n",
       "    .dataframe tbody tr th:only-of-type {\n",
       "        vertical-align: middle;\n",
       "    }\n",
       "\n",
       "    .dataframe tbody tr th {\n",
       "        vertical-align: top;\n",
       "    }\n",
       "\n",
       "    .dataframe thead th {\n",
       "        text-align: right;\n",
       "    }\n",
       "</style>\n",
       "<table border=\"1\" class=\"dataframe\">\n",
       "  <thead>\n",
       "    <tr style=\"text-align: right;\">\n",
       "      <th></th>\n",
       "      <th>Time</th>\n",
       "      <th>Time Period</th>\n",
       "      <th>Activity</th>\n",
       "      <th>Kind</th>\n",
       "      <th>Result</th>\n",
       "      <th>Strongness of Need 1-5</th>\n",
       "    </tr>\n",
       "  </thead>\n",
       "  <tbody>\n",
       "    <tr>\n",
       "      <th>0</th>\n",
       "      <td>00:50:00</td>\n",
       "      <td>before fo to bed</td>\n",
       "      <td>wanna check message/social media</td>\n",
       "      <td>habit</td>\n",
       "      <td>False</td>\n",
       "      <td>2</td>\n",
       "    </tr>\n",
       "    <tr>\n",
       "      <th>1</th>\n",
       "      <td>01:15:00</td>\n",
       "      <td>after reading</td>\n",
       "      <td>wanna check message/social media</td>\n",
       "      <td>intuitive</td>\n",
       "      <td>False</td>\n",
       "      <td>2</td>\n",
       "    </tr>\n",
       "    <tr>\n",
       "      <th>2</th>\n",
       "      <td>01:30:00</td>\n",
       "      <td>before sleep</td>\n",
       "      <td>wanna check message/social media</td>\n",
       "      <td>habit</td>\n",
       "      <td>False</td>\n",
       "      <td>3</td>\n",
       "    </tr>\n",
       "    <tr>\n",
       "      <th>3</th>\n",
       "      <td>10:00:00</td>\n",
       "      <td>after get up</td>\n",
       "      <td>wanna check message/social media</td>\n",
       "      <td>habit</td>\n",
       "      <td>False</td>\n",
       "      <td>4</td>\n",
       "    </tr>\n",
       "    <tr>\n",
       "      <th>4</th>\n",
       "      <td>11:40:00</td>\n",
       "      <td>after reading</td>\n",
       "      <td>wanna check message/social media</td>\n",
       "      <td>intuitive</td>\n",
       "      <td>False</td>\n",
       "      <td>2</td>\n",
       "    </tr>\n",
       "    <tr>\n",
       "      <th>5</th>\n",
       "      <td>11:58:00</td>\n",
       "      <td>after shower</td>\n",
       "      <td>just wanna take a look</td>\n",
       "      <td>intuitive</td>\n",
       "      <td>False</td>\n",
       "      <td>3</td>\n",
       "    </tr>\n",
       "    <tr>\n",
       "      <th>6</th>\n",
       "      <td>12:19:00</td>\n",
       "      <td>NaN</td>\n",
       "      <td>show bus ticket to bus driver</td>\n",
       "      <td>tool</td>\n",
       "      <td>True</td>\n",
       "      <td>1</td>\n",
       "    </tr>\n",
       "    <tr>\n",
       "      <th>7</th>\n",
       "      <td>12:29:00</td>\n",
       "      <td>NaN</td>\n",
       "      <td>wanna listen some music</td>\n",
       "      <td>entertainment</td>\n",
       "      <td>False</td>\n",
       "      <td>3</td>\n",
       "    </tr>\n",
       "    <tr>\n",
       "      <th>8</th>\n",
       "      <td>14:25:00</td>\n",
       "      <td>NaN</td>\n",
       "      <td>show bus ticket to bus driver</td>\n",
       "      <td>tool</td>\n",
       "      <td>True</td>\n",
       "      <td>1</td>\n",
       "    </tr>\n",
       "    <tr>\n",
       "      <th>9</th>\n",
       "      <td>14:38:00</td>\n",
       "      <td>NaN</td>\n",
       "      <td>see a guy wearing SD Hack, remeber that I stil...</td>\n",
       "      <td>priming</td>\n",
       "      <td>False</td>\n",
       "      <td>2</td>\n",
       "    </tr>\n",
       "    <tr>\n",
       "      <th>10</th>\n",
       "      <td>14:43:00</td>\n",
       "      <td>after finish a book</td>\n",
       "      <td>wanna share my opnions about the book</td>\n",
       "      <td>emotion</td>\n",
       "      <td>False</td>\n",
       "      <td>4</td>\n",
       "    </tr>\n",
       "    <tr>\n",
       "      <th>11</th>\n",
       "      <td>19:50:00</td>\n",
       "      <td>after friend transfer money to me</td>\n",
       "      <td>wanna check whether the money is successfully ...</td>\n",
       "      <td>tool</td>\n",
       "      <td>False</td>\n",
       "      <td>2</td>\n",
       "    </tr>\n",
       "    <tr>\n",
       "      <th>12</th>\n",
       "      <td>21:31:00</td>\n",
       "      <td>while doing HW</td>\n",
       "      <td>wanna use it for google a question</td>\n",
       "      <td>tool</td>\n",
       "      <td>False</td>\n",
       "      <td>3</td>\n",
       "    </tr>\n",
       "    <tr>\n",
       "      <th>13</th>\n",
       "      <td>22:00:00</td>\n",
       "      <td>after finsh HW</td>\n",
       "      <td>wanna play video games</td>\n",
       "      <td>entertainment</td>\n",
       "      <td>False</td>\n",
       "      <td>3</td>\n",
       "    </tr>\n",
       "  </tbody>\n",
       "</table>\n",
       "</div>"
      ],
      "text/plain": [
       "        Time                        Time Period  \\\n",
       "0   00:50:00                   before fo to bed   \n",
       "1   01:15:00                      after reading   \n",
       "2   01:30:00                       before sleep   \n",
       "3   10:00:00                       after get up   \n",
       "4   11:40:00                      after reading   \n",
       "5   11:58:00                       after shower   \n",
       "6   12:19:00                                NaN   \n",
       "7   12:29:00                                NaN   \n",
       "8   14:25:00                                NaN   \n",
       "9   14:38:00                                NaN   \n",
       "10  14:43:00                after finish a book   \n",
       "11  19:50:00  after friend transfer money to me   \n",
       "12  21:31:00                    while doing HW    \n",
       "13  22:00:00                     after finsh HW   \n",
       "\n",
       "                                             Activity           Kind  Result  \\\n",
       "0                    wanna check message/social media          habit   False   \n",
       "1                    wanna check message/social media      intuitive   False   \n",
       "2                    wanna check message/social media          habit   False   \n",
       "3                    wanna check message/social media          habit   False   \n",
       "4                    wanna check message/social media      intuitive   False   \n",
       "5                              just wanna take a look      intuitive   False   \n",
       "6                       show bus ticket to bus driver           tool    True   \n",
       "7                             wanna listen some music  entertainment   False   \n",
       "8                       show bus ticket to bus driver           tool    True   \n",
       "9   see a guy wearing SD Hack, remeber that I stil...        priming   False   \n",
       "10              wanna share my opnions about the book        emotion   False   \n",
       "11  wanna check whether the money is successfully ...           tool   False   \n",
       "12                 wanna use it for google a question           tool   False   \n",
       "13                             wanna play video games  entertainment   False   \n",
       "\n",
       "    Strongness of Need 1-5  \n",
       "0                        2  \n",
       "1                        2  \n",
       "2                        3  \n",
       "3                        4  \n",
       "4                        2  \n",
       "5                        3  \n",
       "6                        1  \n",
       "7                        3  \n",
       "8                        1  \n",
       "9                        2  \n",
       "10                       4  \n",
       "11                       2  \n",
       "12                       3  \n",
       "13                       3  "
      ]
     },
     "execution_count": 122,
     "metadata": {},
     "output_type": "execute_result"
    }
   ],
   "source": [
    "attempt = pd.DataFrame(data, columns = [\"Time\", \"Time Period\", \"Activity\", \"Kind\", \"Result\", \"Strongness of Need 1-5\"])\n",
    "attempt.replace(\" \", np.nan)"
   ]
  },
  {
   "cell_type": "markdown",
   "metadata": {},
   "source": [
    "## 3. About \"True\" Attempts\n",
    "Analysis the only two attempts that turned out to be a \"use\" in the end\n",
    "1. There are only two attempts that truned out to a \"use\"\n",
    "2. These two attempts are for the same reason and same kind: \"showing bus ticket\" and \"tool\"\n",
    "3. The reason they turned out to be a \"use\" is mainly because I am poor and I don't wanna spend 2.25 while I can take the bus for free\n",
    "4. The mean of the strongness of these two attempts are much lower than average of all"
   ]
  },
  {
   "cell_type": "code",
   "execution_count": 123,
   "metadata": {},
   "outputs": [
    {
     "name": "stdout",
     "output_type": "stream",
     "text": [
      "The mean of true attempt's strongness: 1.0\n",
      "The mean of all attempt strongness: 2.5\n"
     ]
    }
   ],
   "source": [
    "true_attempt = attempt.loc[attempt[\"Result\"] == True]\n",
    "true_attempt_mean = true_attempt[\"Strongness of Need 1-5\"].mean()\n",
    "mean_in_all = attempt[\"Strongness of Need 1-5\"].mean()\n",
    "print(\"The mean of true attempt's strongness:\", true_attempt_mean)\n",
    "print(\"The mean of all attempt strongness:\", mean_in_all)"
   ]
  },
  {
   "cell_type": "markdown",
   "metadata": {},
   "source": [
    "## 4. About Time Period\n"
   ]
  },
  {
   "cell_type": "code",
   "execution_count": 124,
   "metadata": {},
   "outputs": [
    {
     "data": {
      "text/plain": [
       "                                     4\n",
       "after reading                        2\n",
       "after get up                         1\n",
       "after finish a book                  1\n",
       "while doing HW                       1\n",
       "before sleep                         1\n",
       "before fo to bed                     1\n",
       "after friend transfer money to me    1\n",
       "after finsh HW                       1\n",
       "after shower                         1\n",
       "Name: Time Period, dtype: int64"
      ]
     },
     "execution_count": 124,
     "metadata": {},
     "output_type": "execute_result"
    }
   ],
   "source": [
    "period = attempt[\"Time Period\"].value_counts()\n",
    "period"
   ]
  },
  {
   "cell_type": "markdown",
   "metadata": {},
   "source": [
    "We can see that attempts that are either before doing sth or after doing something take 8/14 of total attempts  "
   ]
  },
  {
   "cell_type": "markdown",
   "metadata": {},
   "source": [
    "## 5. Activity"
   ]
  },
  {
   "cell_type": "code",
   "execution_count": 125,
   "metadata": {},
   "outputs": [
    {
     "data": {
      "text/plain": [
       "wanna check message/social media                                                             5\n",
       "show bus ticket to bus driver                                                                2\n",
       "see a guy wearing SD Hack, remeber that I still not finish my application of SD Hack 2019    1\n",
       "wanna share my opnions about the book                                                        1\n",
       "just wanna take a look                                                                       1\n",
       "wanna listen some music                                                                      1\n",
       "wanna check whether the money is successfully transfered                                     1\n",
       "wanna use it for google a question                                                           1\n",
       "wanna play video games                                                                       1\n",
       "Name: Activity, dtype: int64"
      ]
     },
     "execution_count": 125,
     "metadata": {},
     "output_type": "execute_result"
    }
   ],
   "source": [
    "activity = attempt[\"Activity\"].value_counts()\n",
    "activity"
   ]
  },
  {
   "cell_type": "markdown",
   "metadata": {},
   "source": [
    "we can see activity is mainly about social media or coginitive."
   ]
  },
  {
   "cell_type": "markdown",
   "metadata": {},
   "source": [
    "## 6. Time"
   ]
  },
  {
   "cell_type": "code",
   "execution_count": 129,
   "metadata": {},
   "outputs": [
    {
     "data": {
      "image/png": "[encoded data removed]",
      "text/plain": [
       "<Figure size 432x288 with 1 Axes>"
      ]
     },
     "metadata": {
      "needs_background": "light"
     },
     "output_type": "display_data"
    }
   ],
   "source": [
    "x = attempt[\"Time\"].tolist()\n",
    "y = attempt[\"Strongness of Need 1-5\"]\n",
    "plt.plot(x,y)\n",
    "plt.gcf().autofmt_xdate()\n",
    "plt.show()"
   ]
  },
  {
   "cell_type": "markdown",
   "metadata": {},
   "source": [
    "Attempt are maily occured between 11:00 - 16:00 while all attempt in this period have low strongness of need. Morning and night have more need while less attempts. "
   ]
  }
 ],
 "metadata": {
  "kernelspec": {
   "display_name": "Python 3",
   "language": "python",
   "name": "python3"
  },
  "language_info": {
   "codemirror_mode": {
    "name": "ipython",
    "version": 3
   },
   "file_extension": ".py",
   "mimetype": "text/x-python",
   "name": "python",
   "nbconvert_exporter": "python",
   "pygments_lexer": "ipython3",
   "version": "3.7.3"
  }
 },
 "nbformat": 4,
 "nbformat_minor": 2
}
